{
  "nbformat": 4,
  "nbformat_minor": 0,
  "metadata": {
    "kernelspec": {
      "display_name": "Python 3",
      "language": "python",
      "name": "python3"
    },
    "language_info": {
      "codemirror_mode": {
        "name": "ipython",
        "version": 3
      },
      "file_extension": ".py",
      "mimetype": "text/x-python",
      "name": "python",
      "nbconvert_exporter": "python",
      "pygments_lexer": "ipython3",
      "version": "3.7.6"
    },
    "colab": {
      "name": "Starter_Code.ipynb",
      "provenance": [],
      "collapsed_sections": [],
      "toc_visible": true
    }
  },
  "cells": [
    {
      "cell_type": "markdown",
      "metadata": {
        "id": "uIbaSC2DRC94"
      },
      "source": [
        "## Preprocessing"
      ]
    },
    {
      "cell_type": "code",
      "metadata": {
        "id": "VerTIWYeRC96",
        "colab": {
          "resources": {
            "http://localhost:8080/nbextensions/google.colab/files.js": {
              "data": "Ly8gQ29weXJpZ2h0IDIwMTcgR29vZ2xlIExMQwovLwovLyBMaWNlbnNlZCB1bmRlciB0aGUgQXBhY2hlIExpY2Vuc2UsIFZlcnNpb24gMi4wICh0aGUgIkxpY2Vuc2UiKTsKLy8geW91IG1heSBub3QgdXNlIHRoaXMgZmlsZSBleGNlcHQgaW4gY29tcGxpYW5jZSB3aXRoIHRoZSBMaWNlbnNlLgovLyBZb3UgbWF5IG9idGFpbiBhIGNvcHkgb2YgdGhlIExpY2Vuc2UgYXQKLy8KLy8gICAgICBodHRwOi8vd3d3LmFwYWNoZS5vcmcvbGljZW5zZXMvTElDRU5TRS0yLjAKLy8KLy8gVW5sZXNzIHJlcXVpcmVkIGJ5IGFwcGxpY2FibGUgbGF3IG9yIGFncmVlZCB0byBpbiB3cml0aW5nLCBzb2Z0d2FyZQovLyBkaXN0cmlidXRlZCB1bmRlciB0aGUgTGljZW5zZSBpcyBkaXN0cmlidXRlZCBvbiBhbiAiQVMgSVMiIEJBU0lTLAovLyBXSVRIT1VUIFdBUlJBTlRJRVMgT1IgQ09ORElUSU9OUyBPRiBBTlkgS0lORCwgZWl0aGVyIGV4cHJlc3Mgb3IgaW1wbGllZC4KLy8gU2VlIHRoZSBMaWNlbnNlIGZvciB0aGUgc3BlY2lmaWMgbGFuZ3VhZ2UgZ292ZXJuaW5nIHBlcm1pc3Npb25zIGFuZAovLyBsaW1pdGF0aW9ucyB1bmRlciB0aGUgTGljZW5zZS4KCi8qKgogKiBAZmlsZW92ZXJ2aWV3IEhlbHBlcnMgZm9yIGdvb2dsZS5jb2xhYiBQeXRob24gbW9kdWxlLgogKi8KKGZ1bmN0aW9uKHNjb3BlKSB7CmZ1bmN0aW9uIHNwYW4odGV4dCwgc3R5bGVBdHRyaWJ1dGVzID0ge30pIHsKICBjb25zdCBlbGVtZW50ID0gZG9jdW1lbnQuY3JlYXRlRWxlbWVudCgnc3BhbicpOwogIGVsZW1lbnQudGV4dENvbnRlbnQgPSB0ZXh0OwogIGZvciAoY29uc3Qga2V5IG9mIE9iamVjdC5rZXlzKHN0eWxlQXR0cmlidXRlcykpIHsKICAgIGVsZW1lbnQuc3R5bGVba2V5XSA9IHN0eWxlQXR0cmlidXRlc1trZXldOwogIH0KICByZXR1cm4gZWxlbWVudDsKfQoKLy8gTWF4IG51bWJlciBvZiBieXRlcyB3aGljaCB3aWxsIGJlIHVwbG9hZGVkIGF0IGEgdGltZS4KY29uc3QgTUFYX1BBWUxPQURfU0laRSA9IDEwMCAqIDEwMjQ7CgpmdW5jdGlvbiBfdXBsb2FkRmlsZXMoaW5wdXRJZCwgb3V0cHV0SWQpIHsKICBjb25zdCBzdGVwcyA9IHVwbG9hZEZpbGVzU3RlcChpbnB1dElkLCBvdXRwdXRJZCk7CiAgY29uc3Qgb3V0cHV0RWxlbWVudCA9IGRvY3VtZW50LmdldEVsZW1lbnRCeUlkKG91dHB1dElkKTsKICAvLyBDYWNoZSBzdGVwcyBvbiB0aGUgb3V0cHV0RWxlbWVudCB0byBtYWtlIGl0IGF2YWlsYWJsZSBmb3IgdGhlIG5leHQgY2FsbAogIC8vIHRvIHVwbG9hZEZpbGVzQ29udGludWUgZnJvbSBQeXRob24uCiAgb3V0cHV0RWxlbWVudC5zdGVwcyA9IHN0ZXBzOwoKICByZXR1cm4gX3VwbG9hZEZpbGVzQ29udGludWUob3V0cHV0SWQpOwp9CgovLyBUaGlzIGlzIHJvdWdobHkgYW4gYXN5bmMgZ2VuZXJhdG9yIChub3Qgc3VwcG9ydGVkIGluIHRoZSBicm93c2VyIHlldCksCi8vIHdoZXJlIHRoZXJlIGFyZSBtdWx0aXBsZSBhc3luY2hyb25vdXMgc3RlcHMgYW5kIHRoZSBQeXRob24gc2lkZSBpcyBnb2luZwovLyB0byBwb2xsIGZvciBjb21wbGV0aW9uIG9mIGVhY2ggc3RlcC4KLy8gVGhpcyB1c2VzIGEgUHJvbWlzZSB0byBibG9jayB0aGUgcHl0aG9uIHNpZGUgb24gY29tcGxldGlvbiBvZiBlYWNoIHN0ZXAsCi8vIHRoZW4gcGFzc2VzIHRoZSByZXN1bHQgb2YgdGhlIHByZXZpb3VzIHN0ZXAgYXMgdGhlIGlucHV0IHRvIHRoZSBuZXh0IHN0ZXAuCmZ1bmN0aW9uIF91cGxvYWRGaWxlc0NvbnRpbnVlKG91dHB1dElkKSB7CiAgY29uc3Qgb3V0cHV0RWxlbWVudCA9IGRvY3VtZW50LmdldEVsZW1lbnRCeUlkKG91dHB1dElkKTsKICBjb25zdCBzdGVwcyA9IG91dHB1dEVsZW1lbnQuc3RlcHM7CgogIGNvbnN0IG5leHQgPSBzdGVwcy5uZXh0KG91dHB1dEVsZW1lbnQubGFzdFByb21pc2VWYWx1ZSk7CiAgcmV0dXJuIFByb21pc2UucmVzb2x2ZShuZXh0LnZhbHVlLnByb21pc2UpLnRoZW4oKHZhbHVlKSA9PiB7CiAgICAvLyBDYWNoZSB0aGUgbGFzdCBwcm9taXNlIHZhbHVlIHRvIG1ha2UgaXQgYXZhaWxhYmxlIHRvIHRoZSBuZXh0CiAgICAvLyBzdGVwIG9mIHRoZSBnZW5lcmF0b3IuCiAgICBvdXRwdXRFbGVtZW50Lmxhc3RQcm9taXNlVmFsdWUgPSB2YWx1ZTsKICAgIHJldHVybiBuZXh0LnZhbHVlLnJlc3BvbnNlOwogIH0pOwp9CgovKioKICogR2VuZXJhdG9yIGZ1bmN0aW9uIHdoaWNoIGlzIGNhbGxlZCBiZXR3ZWVuIGVhY2ggYXN5bmMgc3RlcCBvZiB0aGUgdXBsb2FkCiAqIHByb2Nlc3MuCiAqIEBwYXJhbSB7c3RyaW5nfSBpbnB1dElkIEVsZW1lbnQgSUQgb2YgdGhlIGlucHV0IGZpbGUgcGlja2VyIGVsZW1lbnQuCiAqIEBwYXJhbSB7c3RyaW5nfSBvdXRwdXRJZCBFbGVtZW50IElEIG9mIHRoZSBvdXRwdXQgZGlzcGxheS4KICogQHJldHVybiB7IUl0ZXJhYmxlPCFPYmplY3Q+fSBJdGVyYWJsZSBvZiBuZXh0IHN0ZXBzLgogKi8KZnVuY3Rpb24qIHVwbG9hZEZpbGVzU3RlcChpbnB1dElkLCBvdXRwdXRJZCkgewogIGNvbnN0IGlucHV0RWxlbWVudCA9IGRvY3VtZW50LmdldEVsZW1lbnRCeUlkKGlucHV0SWQpOwogIGlucHV0RWxlbWVudC5kaXNhYmxlZCA9IGZhbHNlOwoKICBjb25zdCBvdXRwdXRFbGVtZW50ID0gZG9jdW1lbnQuZ2V0RWxlbWVudEJ5SWQob3V0cHV0SWQpOwogIG91dHB1dEVsZW1lbnQuaW5uZXJIVE1MID0gJyc7CgogIGNvbnN0IHBpY2tlZFByb21pc2UgPSBuZXcgUHJvbWlzZSgocmVzb2x2ZSkgPT4gewogICAgaW5wdXRFbGVtZW50LmFkZEV2ZW50TGlzdGVuZXIoJ2NoYW5nZScsIChlKSA9PiB7CiAgICAgIHJlc29sdmUoZS50YXJnZXQuZmlsZXMpOwogICAgfSk7CiAgfSk7CgogIGNvbnN0IGNhbmNlbCA9IGRvY3VtZW50LmNyZWF0ZUVsZW1lbnQoJ2J1dHRvbicpOwogIGlucHV0RWxlbWVudC5wYXJlbnRFbGVtZW50LmFwcGVuZENoaWxkKGNhbmNlbCk7CiAgY2FuY2VsLnRleHRDb250ZW50ID0gJ0NhbmNlbCB1cGxvYWQnOwogIGNvbnN0IGNhbmNlbFByb21pc2UgPSBuZXcgUHJvbWlzZSgocmVzb2x2ZSkgPT4gewogICAgY2FuY2VsLm9uY2xpY2sgPSAoKSA9PiB7CiAgICAgIHJlc29sdmUobnVsbCk7CiAgICB9OwogIH0pOwoKICAvLyBXYWl0IGZvciB0aGUgdXNlciB0byBwaWNrIHRoZSBmaWxlcy4KICBjb25zdCBmaWxlcyA9IHlpZWxkIHsKICAgIHByb21pc2U6IFByb21pc2UucmFjZShbcGlja2VkUHJvbWlzZSwgY2FuY2VsUHJvbWlzZV0pLAogICAgcmVzcG9uc2U6IHsKICAgICAgYWN0aW9uOiAnc3RhcnRpbmcnLAogICAgfQogIH07CgogIGNhbmNlbC5yZW1vdmUoKTsKCiAgLy8gRGlzYWJsZSB0aGUgaW5wdXQgZWxlbWVudCBzaW5jZSBmdXJ0aGVyIHBpY2tzIGFyZSBub3QgYWxsb3dlZC4KICBpbnB1dEVsZW1lbnQuZGlzYWJsZWQgPSB0cnVlOwoKICBpZiAoIWZpbGVzKSB7CiAgICByZXR1cm4gewogICAgICByZXNwb25zZTogewogICAgICAgIGFjdGlvbjogJ2NvbXBsZXRlJywKICAgICAgfQogICAgfTsKICB9CgogIGZvciAoY29uc3QgZmlsZSBvZiBmaWxlcykgewogICAgY29uc3QgbGkgPSBkb2N1bWVudC5jcmVhdGVFbGVtZW50KCdsaScpOwogICAgbGkuYXBwZW5kKHNwYW4oZmlsZS5uYW1lLCB7Zm9udFdlaWdodDogJ2JvbGQnfSkpOwogICAgbGkuYXBwZW5kKHNwYW4oCiAgICAgICAgYCgke2ZpbGUudHlwZSB8fCAnbi9hJ30pIC0gJHtmaWxlLnNpemV9IGJ5dGVzLCBgICsKICAgICAgICBgbGFzdCBtb2RpZmllZDogJHsKICAgICAgICAgICAgZmlsZS5sYXN0TW9kaWZpZWREYXRlID8gZmlsZS5sYXN0TW9kaWZpZWREYXRlLnRvTG9jYWxlRGF0ZVN0cmluZygpIDoKICAgICAgICAgICAgICAgICAgICAgICAgICAgICAgICAgICAgJ24vYSd9IC0gYCkpOwogICAgY29uc3QgcGVyY2VudCA9IHNwYW4oJzAlIGRvbmUnKTsKICAgIGxpLmFwcGVuZENoaWxkKHBlcmNlbnQpOwoKICAgIG91dHB1dEVsZW1lbnQuYXBwZW5kQ2hpbGQobGkpOwoKICAgIGNvbnN0IGZpbGVEYXRhUHJvbWlzZSA9IG5ldyBQcm9taXNlKChyZXNvbHZlKSA9PiB7CiAgICAgIGNvbnN0IHJlYWRlciA9IG5ldyBGaWxlUmVhZGVyKCk7CiAgICAgIHJlYWRlci5vbmxvYWQgPSAoZSkgPT4gewogICAgICAgIHJlc29sdmUoZS50YXJnZXQucmVzdWx0KTsKICAgICAgfTsKICAgICAgcmVhZGVyLnJlYWRBc0FycmF5QnVmZmVyKGZpbGUpOwogICAgfSk7CiAgICAvLyBXYWl0IGZvciB0aGUgZGF0YSB0byBiZSByZWFkeS4KICAgIGxldCBmaWxlRGF0YSA9IHlpZWxkIHsKICAgICAgcHJvbWlzZTogZmlsZURhdGFQcm9taXNlLAogICAgICByZXNwb25zZTogewogICAgICAgIGFjdGlvbjogJ2NvbnRpbnVlJywKICAgICAgfQogICAgfTsKCiAgICAvLyBVc2UgYSBjaHVua2VkIHNlbmRpbmcgdG8gYXZvaWQgbWVzc2FnZSBzaXplIGxpbWl0cy4gU2VlIGIvNjIxMTU2NjAuCiAgICBsZXQgcG9zaXRpb24gPSAwOwogICAgZG8gewogICAgICBjb25zdCBsZW5ndGggPSBNYXRoLm1pbihmaWxlRGF0YS5ieXRlTGVuZ3RoIC0gcG9zaXRpb24sIE1BWF9QQVlMT0FEX1NJWkUpOwogICAgICBjb25zdCBjaHVuayA9IG5ldyBVaW50OEFycmF5KGZpbGVEYXRhLCBwb3NpdGlvbiwgbGVuZ3RoKTsKICAgICAgcG9zaXRpb24gKz0gbGVuZ3RoOwoKICAgICAgY29uc3QgYmFzZTY0ID0gYnRvYShTdHJpbmcuZnJvbUNoYXJDb2RlLmFwcGx5KG51bGwsIGNodW5rKSk7CiAgICAgIHlpZWxkIHsKICAgICAgICByZXNwb25zZTogewogICAgICAgICAgYWN0aW9uOiAnYXBwZW5kJywKICAgICAgICAgIGZpbGU6IGZpbGUubmFtZSwKICAgICAgICAgIGRhdGE6IGJhc2U2NCwKICAgICAgICB9LAogICAgICB9OwoKICAgICAgbGV0IHBlcmNlbnREb25lID0gZmlsZURhdGEuYnl0ZUxlbmd0aCA9PT0gMCA/CiAgICAgICAgICAxMDAgOgogICAgICAgICAgTWF0aC5yb3VuZCgocG9zaXRpb24gLyBmaWxlRGF0YS5ieXRlTGVuZ3RoKSAqIDEwMCk7CiAgICAgIHBlcmNlbnQudGV4dENvbnRlbnQgPSBgJHtwZXJjZW50RG9uZX0lIGRvbmVgOwoKICAgIH0gd2hpbGUgKHBvc2l0aW9uIDwgZmlsZURhdGEuYnl0ZUxlbmd0aCk7CiAgfQoKICAvLyBBbGwgZG9uZS4KICB5aWVsZCB7CiAgICByZXNwb25zZTogewogICAgICBhY3Rpb246ICdjb21wbGV0ZScsCiAgICB9CiAgfTsKfQoKc2NvcGUuZ29vZ2xlID0gc2NvcGUuZ29vZ2xlIHx8IHt9OwpzY29wZS5nb29nbGUuY29sYWIgPSBzY29wZS5nb29nbGUuY29sYWIgfHwge307CnNjb3BlLmdvb2dsZS5jb2xhYi5fZmlsZXMgPSB7CiAgX3VwbG9hZEZpbGVzLAogIF91cGxvYWRGaWxlc0NvbnRpbnVlLAp9Owp9KShzZWxmKTsK",
              "ok": true,
              "headers": [
                [
                  "content-type",
                  "application/javascript"
                ]
              ],
              "status": 200,
              "status_text": ""
            }
          },
          "base_uri": "https://localhost:8080/",
          "height": 72
        },
        "outputId": "93463d30-edc2-415f-bbf8-06aff340e7b1"
      },
      "source": [
        "\n",
        "#  Import and read the charity_data.csv.\n",
        "from google.colab import files\n",
        "uploaded=files.upload()\n",
        "\n"
      ],
      "execution_count": 124,
      "outputs": [
        {
          "output_type": "display_data",
          "data": {
            "text/html": [
              "\n",
              "     <input type=\"file\" id=\"files-fed02239-f7c2-4524-8c21-28cc19b15250\" name=\"files[]\" multiple disabled\n",
              "        style=\"border:none\" />\n",
              "     <output id=\"result-fed02239-f7c2-4524-8c21-28cc19b15250\">\n",
              "      Upload widget is only available when the cell has been executed in the\n",
              "      current browser session. Please rerun this cell to enable.\n",
              "      </output>\n",
              "      <script src=\"/nbextensions/google.colab/files.js\"></script> "
            ],
            "text/plain": [
              "<IPython.core.display.HTML object>"
            ]
          },
          "metadata": {}
        },
        {
          "output_type": "stream",
          "name": "stdout",
          "text": [
            "Saving charity_data.csv to charity_data (1).csv\n"
          ]
        }
      ]
    },
    {
      "cell_type": "code",
      "metadata": {
        "colab": {
          "base_uri": "https://localhost:8080/",
          "height": 445
        },
        "id": "BNJJOyetSplX",
        "outputId": "437d40c9-b808-4c63-ec88-faf2fd6e4dcd"
      },
      "source": [
        "# Import our dependencies\n",
        "from sklearn.model_selection import train_test_split\n",
        "from sklearn.preprocessing import StandardScaler\n",
        "import pandas as pd\n",
        "import tensorflow as tf\n",
        "application_df = pd.read_csv(\"charity_data.csv\")\n",
        "application_df.head()"
      ],
      "execution_count": 125,
      "outputs": [
        {
          "output_type": "execute_result",
          "data": {
            "text/html": [
              "<div>\n",
              "<style scoped>\n",
              "    .dataframe tbody tr th:only-of-type {\n",
              "        vertical-align: middle;\n",
              "    }\n",
              "\n",
              "    .dataframe tbody tr th {\n",
              "        vertical-align: top;\n",
              "    }\n",
              "\n",
              "    .dataframe thead th {\n",
              "        text-align: right;\n",
              "    }\n",
              "</style>\n",
              "<table border=\"1\" class=\"dataframe\">\n",
              "  <thead>\n",
              "    <tr style=\"text-align: right;\">\n",
              "      <th></th>\n",
              "      <th>EIN</th>\n",
              "      <th>NAME</th>\n",
              "      <th>APPLICATION_TYPE</th>\n",
              "      <th>AFFILIATION</th>\n",
              "      <th>CLASSIFICATION</th>\n",
              "      <th>USE_CASE</th>\n",
              "      <th>ORGANIZATION</th>\n",
              "      <th>STATUS</th>\n",
              "      <th>INCOME_AMT</th>\n",
              "      <th>SPECIAL_CONSIDERATIONS</th>\n",
              "      <th>ASK_AMT</th>\n",
              "      <th>IS_SUCCESSFUL</th>\n",
              "    </tr>\n",
              "  </thead>\n",
              "  <tbody>\n",
              "    <tr>\n",
              "      <th>0</th>\n",
              "      <td>10520599</td>\n",
              "      <td>BLUE KNIGHTS MOTORCYCLE CLUB</td>\n",
              "      <td>T10</td>\n",
              "      <td>Independent</td>\n",
              "      <td>C1000</td>\n",
              "      <td>ProductDev</td>\n",
              "      <td>Association</td>\n",
              "      <td>1</td>\n",
              "      <td>0</td>\n",
              "      <td>N</td>\n",
              "      <td>5000</td>\n",
              "      <td>1</td>\n",
              "    </tr>\n",
              "    <tr>\n",
              "      <th>1</th>\n",
              "      <td>10531628</td>\n",
              "      <td>AMERICAN CHESAPEAKE CLUB CHARITABLE TR</td>\n",
              "      <td>T3</td>\n",
              "      <td>Independent</td>\n",
              "      <td>C2000</td>\n",
              "      <td>Preservation</td>\n",
              "      <td>Co-operative</td>\n",
              "      <td>1</td>\n",
              "      <td>1-9999</td>\n",
              "      <td>N</td>\n",
              "      <td>108590</td>\n",
              "      <td>1</td>\n",
              "    </tr>\n",
              "    <tr>\n",
              "      <th>2</th>\n",
              "      <td>10547893</td>\n",
              "      <td>ST CLOUD PROFESSIONAL FIREFIGHTERS</td>\n",
              "      <td>T5</td>\n",
              "      <td>CompanySponsored</td>\n",
              "      <td>C3000</td>\n",
              "      <td>ProductDev</td>\n",
              "      <td>Association</td>\n",
              "      <td>1</td>\n",
              "      <td>0</td>\n",
              "      <td>N</td>\n",
              "      <td>5000</td>\n",
              "      <td>0</td>\n",
              "    </tr>\n",
              "    <tr>\n",
              "      <th>3</th>\n",
              "      <td>10553066</td>\n",
              "      <td>SOUTHSIDE ATHLETIC ASSOCIATION</td>\n",
              "      <td>T3</td>\n",
              "      <td>CompanySponsored</td>\n",
              "      <td>C2000</td>\n",
              "      <td>Preservation</td>\n",
              "      <td>Trust</td>\n",
              "      <td>1</td>\n",
              "      <td>10000-24999</td>\n",
              "      <td>N</td>\n",
              "      <td>6692</td>\n",
              "      <td>1</td>\n",
              "    </tr>\n",
              "    <tr>\n",
              "      <th>4</th>\n",
              "      <td>10556103</td>\n",
              "      <td>GENETIC RESEARCH INSTITUTE OF THE DESERT</td>\n",
              "      <td>T3</td>\n",
              "      <td>Independent</td>\n",
              "      <td>C1000</td>\n",
              "      <td>Heathcare</td>\n",
              "      <td>Trust</td>\n",
              "      <td>1</td>\n",
              "      <td>100000-499999</td>\n",
              "      <td>N</td>\n",
              "      <td>142590</td>\n",
              "      <td>1</td>\n",
              "    </tr>\n",
              "  </tbody>\n",
              "</table>\n",
              "</div>"
            ],
            "text/plain": [
              "        EIN                                      NAME  ... ASK_AMT IS_SUCCESSFUL\n",
              "0  10520599              BLUE KNIGHTS MOTORCYCLE CLUB  ...    5000             1\n",
              "1  10531628    AMERICAN CHESAPEAKE CLUB CHARITABLE TR  ...  108590             1\n",
              "2  10547893        ST CLOUD PROFESSIONAL FIREFIGHTERS  ...    5000             0\n",
              "3  10553066            SOUTHSIDE ATHLETIC ASSOCIATION  ...    6692             1\n",
              "4  10556103  GENETIC RESEARCH INSTITUTE OF THE DESERT  ...  142590             1\n",
              "\n",
              "[5 rows x 12 columns]"
            ]
          },
          "metadata": {},
          "execution_count": 125
        }
      ]
    },
    {
      "cell_type": "code",
      "metadata": {
        "colab": {
          "base_uri": "https://localhost:8080/",
          "height": 241
        },
        "id": "JLIeN5TrRC97",
        "outputId": "4188e476-e50c-4c1c-9e96-e4770e2d080a"
      },
      "source": [
        "# Drop the non-beneficial ID columns, 'EIN' and 'NAME'.\n",
        "application_df.drop(['EIN','NAME'], axis=1, inplace=True)\n",
        "application_df.head()"
      ],
      "execution_count": 126,
      "outputs": [
        {
          "output_type": "execute_result",
          "data": {
            "text/html": [
              "<div>\n",
              "<style scoped>\n",
              "    .dataframe tbody tr th:only-of-type {\n",
              "        vertical-align: middle;\n",
              "    }\n",
              "\n",
              "    .dataframe tbody tr th {\n",
              "        vertical-align: top;\n",
              "    }\n",
              "\n",
              "    .dataframe thead th {\n",
              "        text-align: right;\n",
              "    }\n",
              "</style>\n",
              "<table border=\"1\" class=\"dataframe\">\n",
              "  <thead>\n",
              "    <tr style=\"text-align: right;\">\n",
              "      <th></th>\n",
              "      <th>APPLICATION_TYPE</th>\n",
              "      <th>AFFILIATION</th>\n",
              "      <th>CLASSIFICATION</th>\n",
              "      <th>USE_CASE</th>\n",
              "      <th>ORGANIZATION</th>\n",
              "      <th>STATUS</th>\n",
              "      <th>INCOME_AMT</th>\n",
              "      <th>SPECIAL_CONSIDERATIONS</th>\n",
              "      <th>ASK_AMT</th>\n",
              "      <th>IS_SUCCESSFUL</th>\n",
              "    </tr>\n",
              "  </thead>\n",
              "  <tbody>\n",
              "    <tr>\n",
              "      <th>0</th>\n",
              "      <td>T10</td>\n",
              "      <td>Independent</td>\n",
              "      <td>C1000</td>\n",
              "      <td>ProductDev</td>\n",
              "      <td>Association</td>\n",
              "      <td>1</td>\n",
              "      <td>0</td>\n",
              "      <td>N</td>\n",
              "      <td>5000</td>\n",
              "      <td>1</td>\n",
              "    </tr>\n",
              "    <tr>\n",
              "      <th>1</th>\n",
              "      <td>T3</td>\n",
              "      <td>Independent</td>\n",
              "      <td>C2000</td>\n",
              "      <td>Preservation</td>\n",
              "      <td>Co-operative</td>\n",
              "      <td>1</td>\n",
              "      <td>1-9999</td>\n",
              "      <td>N</td>\n",
              "      <td>108590</td>\n",
              "      <td>1</td>\n",
              "    </tr>\n",
              "    <tr>\n",
              "      <th>2</th>\n",
              "      <td>T5</td>\n",
              "      <td>CompanySponsored</td>\n",
              "      <td>C3000</td>\n",
              "      <td>ProductDev</td>\n",
              "      <td>Association</td>\n",
              "      <td>1</td>\n",
              "      <td>0</td>\n",
              "      <td>N</td>\n",
              "      <td>5000</td>\n",
              "      <td>0</td>\n",
              "    </tr>\n",
              "    <tr>\n",
              "      <th>3</th>\n",
              "      <td>T3</td>\n",
              "      <td>CompanySponsored</td>\n",
              "      <td>C2000</td>\n",
              "      <td>Preservation</td>\n",
              "      <td>Trust</td>\n",
              "      <td>1</td>\n",
              "      <td>10000-24999</td>\n",
              "      <td>N</td>\n",
              "      <td>6692</td>\n",
              "      <td>1</td>\n",
              "    </tr>\n",
              "    <tr>\n",
              "      <th>4</th>\n",
              "      <td>T3</td>\n",
              "      <td>Independent</td>\n",
              "      <td>C1000</td>\n",
              "      <td>Heathcare</td>\n",
              "      <td>Trust</td>\n",
              "      <td>1</td>\n",
              "      <td>100000-499999</td>\n",
              "      <td>N</td>\n",
              "      <td>142590</td>\n",
              "      <td>1</td>\n",
              "    </tr>\n",
              "  </tbody>\n",
              "</table>\n",
              "</div>"
            ],
            "text/plain": [
              "  APPLICATION_TYPE       AFFILIATION  ... ASK_AMT IS_SUCCESSFUL\n",
              "0              T10       Independent  ...    5000             1\n",
              "1               T3       Independent  ...  108590             1\n",
              "2               T5  CompanySponsored  ...    5000             0\n",
              "3               T3  CompanySponsored  ...    6692             1\n",
              "4               T3       Independent  ...  142590             1\n",
              "\n",
              "[5 rows x 10 columns]"
            ]
          },
          "metadata": {},
          "execution_count": 126
        }
      ]
    },
    {
      "cell_type": "code",
      "metadata": {
        "colab": {
          "base_uri": "https://localhost:8080/"
        },
        "id": "Hu3NLRp6TmWs",
        "outputId": "71b5a944-371c-4540-de37-8c5b4fe82bc2"
      },
      "source": [
        "# Determine the number of unique values in each column.\n",
        "application_df.nunique()"
      ],
      "execution_count": 127,
      "outputs": [
        {
          "output_type": "execute_result",
          "data": {
            "text/plain": [
              "APPLICATION_TYPE            17\n",
              "AFFILIATION                  6\n",
              "CLASSIFICATION              71\n",
              "USE_CASE                     5\n",
              "ORGANIZATION                 4\n",
              "STATUS                       2\n",
              "INCOME_AMT                   9\n",
              "SPECIAL_CONSIDERATIONS       2\n",
              "ASK_AMT                   8747\n",
              "IS_SUCCESSFUL                2\n",
              "dtype: int64"
            ]
          },
          "metadata": {},
          "execution_count": 127
        }
      ]
    },
    {
      "cell_type": "code",
      "metadata": {
        "id": "6Lu-0VHsRC98",
        "colab": {
          "base_uri": "https://localhost:8080/"
        },
        "outputId": "6b8dcc2d-9920-4159-ac2d-450c3a752643"
      },
      "source": [
        "# Look at APPLICATION_TYPE value counts for binning\n",
        "application_df['APPLICATION_TYPE'].value_counts()"
      ],
      "execution_count": 128,
      "outputs": [
        {
          "output_type": "execute_result",
          "data": {
            "text/plain": [
              "T3     27037\n",
              "T4      1542\n",
              "T6      1216\n",
              "T5      1173\n",
              "T19     1065\n",
              "T8       737\n",
              "T7       725\n",
              "T10      528\n",
              "T9       156\n",
              "T13       66\n",
              "T12       27\n",
              "T2        16\n",
              "T14        3\n",
              "T25        3\n",
              "T15        2\n",
              "T29        2\n",
              "T17        1\n",
              "Name: APPLICATION_TYPE, dtype: int64"
            ]
          },
          "metadata": {},
          "execution_count": 128
        }
      ]
    },
    {
      "cell_type": "code",
      "metadata": {
        "id": "NswZ5gyfRC98",
        "colab": {
          "base_uri": "https://localhost:8080/"
        },
        "outputId": "bc61751a-1671-4b47-bff9-882b7371f380"
      },
      "source": [
        "# Choose a cutoff value and create a list of application types to be replaced\n",
        "cut_off = 150\n",
        "s = application_df['APPLICATION_TYPE'].value_counts()\n",
        "\n",
        "# use the variable name `application_types_to_replace`\n",
        "application_types_to_replace   =  s.loc[s<cut_off].index\n",
        "\n",
        "# Replace in dataframe\n",
        "for app in application_types_to_replace:\n",
        "    application_df['APPLICATION_TYPE'] = application_df['APPLICATION_TYPE'].replace(app,\"Other\")\n",
        "\n",
        "# Check to make sure binning was successful\n",
        "application_df['APPLICATION_TYPE'].value_counts()"
      ],
      "execution_count": 129,
      "outputs": [
        {
          "output_type": "execute_result",
          "data": {
            "text/plain": [
              "T3       27037\n",
              "T4        1542\n",
              "T6        1216\n",
              "T5        1173\n",
              "T19       1065\n",
              "T8         737\n",
              "T7         725\n",
              "T10        528\n",
              "T9         156\n",
              "Other      120\n",
              "Name: APPLICATION_TYPE, dtype: int64"
            ]
          },
          "metadata": {},
          "execution_count": 129
        }
      ]
    },
    {
      "cell_type": "code",
      "metadata": {
        "id": "kicBqZMbRC98",
        "colab": {
          "base_uri": "https://localhost:8080/"
        },
        "outputId": "bc49050d-1de6-44d8-b838-a6dd0aaff661"
      },
      "source": [
        "# Look at CLASSIFICATION value counts for binning\n",
        "application_df['CLASSIFICATION'].value_counts()"
      ],
      "execution_count": 130,
      "outputs": [
        {
          "output_type": "execute_result",
          "data": {
            "text/plain": [
              "C1000    17326\n",
              "C2000     6074\n",
              "C1200     4837\n",
              "C3000     1918\n",
              "C2100     1883\n",
              "         ...  \n",
              "C2500        1\n",
              "C1570        1\n",
              "C1820        1\n",
              "C4200        1\n",
              "C2170        1\n",
              "Name: CLASSIFICATION, Length: 71, dtype: int64"
            ]
          },
          "metadata": {},
          "execution_count": 130
        }
      ]
    },
    {
      "cell_type": "code",
      "metadata": {
        "id": "jNUl9G4fRC99",
        "colab": {
          "base_uri": "https://localhost:8080/"
        },
        "outputId": "78b009df-1834-4381-f61f-d535d0e3663b"
      },
      "source": [
        "# You may find it helpful to look at CLASSIFICATION value counts >1\n",
        "classify_value_counts = application_df['CLASSIFICATION'].value_counts()\n",
        "classify_value_counts.loc[classify_value_counts>1]"
      ],
      "execution_count": 131,
      "outputs": [
        {
          "output_type": "execute_result",
          "data": {
            "text/plain": [
              "C1000    17326\n",
              "C2000     6074\n",
              "C1200     4837\n",
              "C3000     1918\n",
              "C2100     1883\n",
              "C7000      777\n",
              "C1700      287\n",
              "C4000      194\n",
              "C5000      116\n",
              "C1270      114\n",
              "C2700      104\n",
              "C2800       95\n",
              "C7100       75\n",
              "C1300       58\n",
              "C1280       50\n",
              "C1230       36\n",
              "C1400       34\n",
              "C2300       32\n",
              "C7200       32\n",
              "C1240       30\n",
              "C8000       20\n",
              "C7120       18\n",
              "C1500       16\n",
              "C6000       15\n",
              "C1800       15\n",
              "C1250       14\n",
              "C8200       11\n",
              "C1238       10\n",
              "C1278       10\n",
              "C1237        9\n",
              "C1235        9\n",
              "C7210        7\n",
              "C4100        6\n",
              "C2400        6\n",
              "C1720        6\n",
              "C1600        5\n",
              "C1257        5\n",
              "C2710        3\n",
              "C1260        3\n",
              "C0           3\n",
              "C1267        2\n",
              "C3200        2\n",
              "C1246        2\n",
              "C1256        2\n",
              "C1234        2\n",
              "Name: CLASSIFICATION, dtype: int64"
            ]
          },
          "metadata": {},
          "execution_count": 131
        }
      ]
    },
    {
      "cell_type": "code",
      "metadata": {
        "id": "NmX2nGVpRC99",
        "colab": {
          "base_uri": "https://localhost:8080/"
        },
        "outputId": "fa795e1a-4976-4ca7-da00-d50548496421"
      },
      "source": [
        "# Choose a cutoff value and create a list of classifications to be replaced\n",
        "# use the variable name `classifications_to_replace`\n",
        "\n",
        "cut_off = 100\n",
        "classification_value_counts = application_df['CLASSIFICATION'].value_counts()\n",
        "classifications_to_replace = classification_value_counts.loc[classification_value_counts < cut_off].index\n",
        "classifications_to_replace\n",
        "# # Replace in dataframe\n",
        "for cls in classifications_to_replace:\n",
        "    application_df['CLASSIFICATION'] = application_df['CLASSIFICATION'].replace(cls,\"Other\")\n",
        "    \n",
        "# Check to make sure binning was successful\n",
        "application_df['CLASSIFICATION'].value_counts()"
      ],
      "execution_count": 132,
      "outputs": [
        {
          "output_type": "execute_result",
          "data": {
            "text/plain": [
              "C1000    17326\n",
              "C2000     6074\n",
              "C1200     4837\n",
              "C3000     1918\n",
              "C2100     1883\n",
              "C7000      777\n",
              "Other      669\n",
              "C1700      287\n",
              "C4000      194\n",
              "C5000      116\n",
              "C1270      114\n",
              "C2700      104\n",
              "Name: CLASSIFICATION, dtype: int64"
            ]
          },
          "metadata": {},
          "execution_count": 132
        }
      ]
    },
    {
      "cell_type": "code",
      "metadata": {
        "id": "P-EmNDPTRC9-",
        "colab": {
          "base_uri": "https://localhost:8080/"
        },
        "outputId": "04c3420b-85f7-4061-c902-a51192215f20"
      },
      "source": [
        "y = application_df['IS_SUCCESSFUL'] \n",
        "y.value_counts()\n"
      ],
      "execution_count": 133,
      "outputs": [
        {
          "output_type": "execute_result",
          "data": {
            "text/plain": [
              "1    18261\n",
              "0    16038\n",
              "Name: IS_SUCCESSFUL, dtype: int64"
            ]
          },
          "metadata": {},
          "execution_count": 133
        }
      ]
    },
    {
      "cell_type": "code",
      "metadata": {
        "id": "4xbHCntTfhrm"
      },
      "source": [
        "application_df.drop('IS_SUCCESSFUL', axis=1, inplace=True)"
      ],
      "execution_count": 134,
      "outputs": []
    },
    {
      "cell_type": "code",
      "metadata": {
        "colab": {
          "base_uri": "https://localhost:8080/"
        },
        "id": "R21uHbKeb1hL",
        "outputId": "c193566f-73a0-4b63-d352-5a034143ab01"
      },
      "source": [
        "# Convert categorical data to numeric with `pd.get_dummies`\n",
        "application_df.dtypes\n",
        "categorical_features = application_df.dtypes[application_df.dtypes =='object'].index\n",
        "print(categorical_features)\n",
        "print(\"Unique values in categorical data:\", application_df[categorical_features].nunique().sum())"
      ],
      "execution_count": 135,
      "outputs": [
        {
          "output_type": "stream",
          "name": "stdout",
          "text": [
            "Index(['APPLICATION_TYPE', 'AFFILIATION', 'CLASSIFICATION', 'USE_CASE',\n",
            "       'ORGANIZATION', 'INCOME_AMT', 'SPECIAL_CONSIDERATIONS'],\n",
            "      dtype='object')\n",
            "Unique values in categorical data: 48\n"
          ]
        }
      ]
    },
    {
      "cell_type": "code",
      "metadata": {
        "colab": {
          "base_uri": "https://localhost:8080/",
          "height": 241
        },
        "id": "U1Bwid_kdsha",
        "outputId": "15f6f476-4917-4156-eef9-8c983bf9ee39"
      },
      "source": [
        "# one hot encoding\n",
        "X = pd.get_dummies(application_df, drop_first=True)\n",
        "X.head()"
      ],
      "execution_count": 136,
      "outputs": [
        {
          "output_type": "execute_result",
          "data": {
            "text/html": [
              "<div>\n",
              "<style scoped>\n",
              "    .dataframe tbody tr th:only-of-type {\n",
              "        vertical-align: middle;\n",
              "    }\n",
              "\n",
              "    .dataframe tbody tr th {\n",
              "        vertical-align: top;\n",
              "    }\n",
              "\n",
              "    .dataframe thead th {\n",
              "        text-align: right;\n",
              "    }\n",
              "</style>\n",
              "<table border=\"1\" class=\"dataframe\">\n",
              "  <thead>\n",
              "    <tr style=\"text-align: right;\">\n",
              "      <th></th>\n",
              "      <th>STATUS</th>\n",
              "      <th>ASK_AMT</th>\n",
              "      <th>APPLICATION_TYPE_T10</th>\n",
              "      <th>APPLICATION_TYPE_T19</th>\n",
              "      <th>APPLICATION_TYPE_T3</th>\n",
              "      <th>APPLICATION_TYPE_T4</th>\n",
              "      <th>APPLICATION_TYPE_T5</th>\n",
              "      <th>APPLICATION_TYPE_T6</th>\n",
              "      <th>APPLICATION_TYPE_T7</th>\n",
              "      <th>APPLICATION_TYPE_T8</th>\n",
              "      <th>APPLICATION_TYPE_T9</th>\n",
              "      <th>AFFILIATION_Family/Parent</th>\n",
              "      <th>AFFILIATION_Independent</th>\n",
              "      <th>AFFILIATION_National</th>\n",
              "      <th>AFFILIATION_Other</th>\n",
              "      <th>AFFILIATION_Regional</th>\n",
              "      <th>CLASSIFICATION_C1200</th>\n",
              "      <th>CLASSIFICATION_C1270</th>\n",
              "      <th>CLASSIFICATION_C1700</th>\n",
              "      <th>CLASSIFICATION_C2000</th>\n",
              "      <th>CLASSIFICATION_C2100</th>\n",
              "      <th>CLASSIFICATION_C2700</th>\n",
              "      <th>CLASSIFICATION_C3000</th>\n",
              "      <th>CLASSIFICATION_C4000</th>\n",
              "      <th>CLASSIFICATION_C5000</th>\n",
              "      <th>CLASSIFICATION_C7000</th>\n",
              "      <th>CLASSIFICATION_Other</th>\n",
              "      <th>USE_CASE_Heathcare</th>\n",
              "      <th>USE_CASE_Other</th>\n",
              "      <th>USE_CASE_Preservation</th>\n",
              "      <th>USE_CASE_ProductDev</th>\n",
              "      <th>ORGANIZATION_Co-operative</th>\n",
              "      <th>ORGANIZATION_Corporation</th>\n",
              "      <th>ORGANIZATION_Trust</th>\n",
              "      <th>INCOME_AMT_1-9999</th>\n",
              "      <th>INCOME_AMT_10000-24999</th>\n",
              "      <th>INCOME_AMT_100000-499999</th>\n",
              "      <th>INCOME_AMT_10M-50M</th>\n",
              "      <th>INCOME_AMT_1M-5M</th>\n",
              "      <th>INCOME_AMT_25000-99999</th>\n",
              "      <th>INCOME_AMT_50M+</th>\n",
              "      <th>INCOME_AMT_5M-10M</th>\n",
              "      <th>SPECIAL_CONSIDERATIONS_Y</th>\n",
              "    </tr>\n",
              "  </thead>\n",
              "  <tbody>\n",
              "    <tr>\n",
              "      <th>0</th>\n",
              "      <td>1</td>\n",
              "      <td>5000</td>\n",
              "      <td>1</td>\n",
              "      <td>0</td>\n",
              "      <td>0</td>\n",
              "      <td>0</td>\n",
              "      <td>0</td>\n",
              "      <td>0</td>\n",
              "      <td>0</td>\n",
              "      <td>0</td>\n",
              "      <td>0</td>\n",
              "      <td>0</td>\n",
              "      <td>1</td>\n",
              "      <td>0</td>\n",
              "      <td>0</td>\n",
              "      <td>0</td>\n",
              "      <td>0</td>\n",
              "      <td>0</td>\n",
              "      <td>0</td>\n",
              "      <td>0</td>\n",
              "      <td>0</td>\n",
              "      <td>0</td>\n",
              "      <td>0</td>\n",
              "      <td>0</td>\n",
              "      <td>0</td>\n",
              "      <td>0</td>\n",
              "      <td>0</td>\n",
              "      <td>0</td>\n",
              "      <td>0</td>\n",
              "      <td>0</td>\n",
              "      <td>1</td>\n",
              "      <td>0</td>\n",
              "      <td>0</td>\n",
              "      <td>0</td>\n",
              "      <td>0</td>\n",
              "      <td>0</td>\n",
              "      <td>0</td>\n",
              "      <td>0</td>\n",
              "      <td>0</td>\n",
              "      <td>0</td>\n",
              "      <td>0</td>\n",
              "      <td>0</td>\n",
              "      <td>0</td>\n",
              "    </tr>\n",
              "    <tr>\n",
              "      <th>1</th>\n",
              "      <td>1</td>\n",
              "      <td>108590</td>\n",
              "      <td>0</td>\n",
              "      <td>0</td>\n",
              "      <td>1</td>\n",
              "      <td>0</td>\n",
              "      <td>0</td>\n",
              "      <td>0</td>\n",
              "      <td>0</td>\n",
              "      <td>0</td>\n",
              "      <td>0</td>\n",
              "      <td>0</td>\n",
              "      <td>1</td>\n",
              "      <td>0</td>\n",
              "      <td>0</td>\n",
              "      <td>0</td>\n",
              "      <td>0</td>\n",
              "      <td>0</td>\n",
              "      <td>0</td>\n",
              "      <td>1</td>\n",
              "      <td>0</td>\n",
              "      <td>0</td>\n",
              "      <td>0</td>\n",
              "      <td>0</td>\n",
              "      <td>0</td>\n",
              "      <td>0</td>\n",
              "      <td>0</td>\n",
              "      <td>0</td>\n",
              "      <td>0</td>\n",
              "      <td>1</td>\n",
              "      <td>0</td>\n",
              "      <td>1</td>\n",
              "      <td>0</td>\n",
              "      <td>0</td>\n",
              "      <td>1</td>\n",
              "      <td>0</td>\n",
              "      <td>0</td>\n",
              "      <td>0</td>\n",
              "      <td>0</td>\n",
              "      <td>0</td>\n",
              "      <td>0</td>\n",
              "      <td>0</td>\n",
              "      <td>0</td>\n",
              "    </tr>\n",
              "    <tr>\n",
              "      <th>2</th>\n",
              "      <td>1</td>\n",
              "      <td>5000</td>\n",
              "      <td>0</td>\n",
              "      <td>0</td>\n",
              "      <td>0</td>\n",
              "      <td>0</td>\n",
              "      <td>1</td>\n",
              "      <td>0</td>\n",
              "      <td>0</td>\n",
              "      <td>0</td>\n",
              "      <td>0</td>\n",
              "      <td>0</td>\n",
              "      <td>0</td>\n",
              "      <td>0</td>\n",
              "      <td>0</td>\n",
              "      <td>0</td>\n",
              "      <td>0</td>\n",
              "      <td>0</td>\n",
              "      <td>0</td>\n",
              "      <td>0</td>\n",
              "      <td>0</td>\n",
              "      <td>0</td>\n",
              "      <td>1</td>\n",
              "      <td>0</td>\n",
              "      <td>0</td>\n",
              "      <td>0</td>\n",
              "      <td>0</td>\n",
              "      <td>0</td>\n",
              "      <td>0</td>\n",
              "      <td>0</td>\n",
              "      <td>1</td>\n",
              "      <td>0</td>\n",
              "      <td>0</td>\n",
              "      <td>0</td>\n",
              "      <td>0</td>\n",
              "      <td>0</td>\n",
              "      <td>0</td>\n",
              "      <td>0</td>\n",
              "      <td>0</td>\n",
              "      <td>0</td>\n",
              "      <td>0</td>\n",
              "      <td>0</td>\n",
              "      <td>0</td>\n",
              "    </tr>\n",
              "    <tr>\n",
              "      <th>3</th>\n",
              "      <td>1</td>\n",
              "      <td>6692</td>\n",
              "      <td>0</td>\n",
              "      <td>0</td>\n",
              "      <td>1</td>\n",
              "      <td>0</td>\n",
              "      <td>0</td>\n",
              "      <td>0</td>\n",
              "      <td>0</td>\n",
              "      <td>0</td>\n",
              "      <td>0</td>\n",
              "      <td>0</td>\n",
              "      <td>0</td>\n",
              "      <td>0</td>\n",
              "      <td>0</td>\n",
              "      <td>0</td>\n",
              "      <td>0</td>\n",
              "      <td>0</td>\n",
              "      <td>0</td>\n",
              "      <td>1</td>\n",
              "      <td>0</td>\n",
              "      <td>0</td>\n",
              "      <td>0</td>\n",
              "      <td>0</td>\n",
              "      <td>0</td>\n",
              "      <td>0</td>\n",
              "      <td>0</td>\n",
              "      <td>0</td>\n",
              "      <td>0</td>\n",
              "      <td>1</td>\n",
              "      <td>0</td>\n",
              "      <td>0</td>\n",
              "      <td>0</td>\n",
              "      <td>1</td>\n",
              "      <td>0</td>\n",
              "      <td>1</td>\n",
              "      <td>0</td>\n",
              "      <td>0</td>\n",
              "      <td>0</td>\n",
              "      <td>0</td>\n",
              "      <td>0</td>\n",
              "      <td>0</td>\n",
              "      <td>0</td>\n",
              "    </tr>\n",
              "    <tr>\n",
              "      <th>4</th>\n",
              "      <td>1</td>\n",
              "      <td>142590</td>\n",
              "      <td>0</td>\n",
              "      <td>0</td>\n",
              "      <td>1</td>\n",
              "      <td>0</td>\n",
              "      <td>0</td>\n",
              "      <td>0</td>\n",
              "      <td>0</td>\n",
              "      <td>0</td>\n",
              "      <td>0</td>\n",
              "      <td>0</td>\n",
              "      <td>1</td>\n",
              "      <td>0</td>\n",
              "      <td>0</td>\n",
              "      <td>0</td>\n",
              "      <td>0</td>\n",
              "      <td>0</td>\n",
              "      <td>0</td>\n",
              "      <td>0</td>\n",
              "      <td>0</td>\n",
              "      <td>0</td>\n",
              "      <td>0</td>\n",
              "      <td>0</td>\n",
              "      <td>0</td>\n",
              "      <td>0</td>\n",
              "      <td>0</td>\n",
              "      <td>1</td>\n",
              "      <td>0</td>\n",
              "      <td>0</td>\n",
              "      <td>0</td>\n",
              "      <td>0</td>\n",
              "      <td>0</td>\n",
              "      <td>1</td>\n",
              "      <td>0</td>\n",
              "      <td>0</td>\n",
              "      <td>1</td>\n",
              "      <td>0</td>\n",
              "      <td>0</td>\n",
              "      <td>0</td>\n",
              "      <td>0</td>\n",
              "      <td>0</td>\n",
              "      <td>0</td>\n",
              "    </tr>\n",
              "  </tbody>\n",
              "</table>\n",
              "</div>"
            ],
            "text/plain": [
              "   STATUS  ASK_AMT  ...  INCOME_AMT_5M-10M  SPECIAL_CONSIDERATIONS_Y\n",
              "0       1     5000  ...                  0                         0\n",
              "1       1   108590  ...                  0                         0\n",
              "2       1     5000  ...                  0                         0\n",
              "3       1     6692  ...                  0                         0\n",
              "4       1   142590  ...                  0                         0\n",
              "\n",
              "[5 rows x 43 columns]"
            ]
          },
          "metadata": {},
          "execution_count": 136
        }
      ]
    },
    {
      "cell_type": "code",
      "metadata": {
        "colab": {
          "base_uri": "https://localhost:8080/"
        },
        "id": "xnN4I5amf-B4",
        "outputId": "cbf946b1-2428-448c-ea0d-aac4622c753a"
      },
      "source": [
        "X.shape"
      ],
      "execution_count": 137,
      "outputs": [
        {
          "output_type": "execute_result",
          "data": {
            "text/plain": [
              "(34299, 43)"
            ]
          },
          "metadata": {},
          "execution_count": 137
        }
      ]
    },
    {
      "cell_type": "markdown",
      "metadata": {
        "id": "HVevL7oYgTBa"
      },
      "source": [
        "__48 unique values in categorical data - 7 categorical features + 2 integer fields = 43 features as shown in X.shape__"
      ]
    },
    {
      "cell_type": "code",
      "metadata": {
        "id": "k3gMIPFgRC9-"
      },
      "source": [
        "# Split the preprocessed data into a training and testing dataset\n",
        "X_train,X_test,y_train,y_test = train_test_split(X,y,random_state=42)\n"
      ],
      "execution_count": 138,
      "outputs": []
    },
    {
      "cell_type": "code",
      "metadata": {
        "id": "pbqhA3ARRC9-"
      },
      "source": [
        "# Create a StandardScaler instances\n",
        "scaler = StandardScaler()\n",
        "\n",
        "# Fit the StandardScaler\n",
        "X_scaler = scaler.fit(X_train)\n",
        "\n",
        "# Scale the data\n",
        "X_train_scaled = X_scaler.transform(X_train)\n",
        "X_test_scaled = X_scaler.transform(X_test)"
      ],
      "execution_count": 139,
      "outputs": []
    },
    {
      "cell_type": "code",
      "metadata": {
        "colab": {
          "base_uri": "https://localhost:8080/"
        },
        "id": "5UMroagkjBJ4",
        "outputId": "5ae6ac13-7d74-4498-85a2-b6214ca99a1e"
      },
      "source": [
        "from sklearn.linear_model import LogisticRegression\n",
        "model = LogisticRegression()\n",
        "model.fit(X_train_scaled,y_train)\n",
        "print(model.score(X_train_scaled,y_train))\n",
        "print(model.score(X_test_scaled,y_test))"
      ],
      "execution_count": 140,
      "outputs": [
        {
          "output_type": "stream",
          "name": "stdout",
          "text": [
            "0.7220494479863163\n",
            "0.722798833819242\n"
          ]
        }
      ]
    },
    {
      "cell_type": "markdown",
      "metadata": {
        "id": "qpko61RMeyfY"
      },
      "source": [
        "__Logistic regression gives model score of 0.72__"
      ]
    },
    {
      "cell_type": "markdown",
      "metadata": {
        "id": "OLSlq-y6RC9-"
      },
      "source": [
        "## Compile, Train and Evaluate the Model"
      ]
    },
    {
      "cell_type": "code",
      "metadata": {
        "id": "KtFLAe_gRC9_",
        "colab": {
          "base_uri": "https://localhost:8080/"
        },
        "outputId": "51a44dfd-8dde-405d-da1a-16361057ffe7"
      },
      "source": [
        "# Define the model - deep neural net, i.e., the number of input features and hidden nodes for each layer.\n",
        "\n",
        "nn = tf.keras.models.Sequential()\n",
        "\n",
        "# First hidden layer\n",
        "input_dim = len(X.columns)\n",
        "nn.add(tf.keras.layers.Dense(units=8, activation=\"relu\", input_dim=input_dim))\n",
        "# Second hidden layer\n",
        "nn.add(tf.keras.layers.Dense(units=4, activation=\"relu\"))\n",
        "# Output layer\n",
        "nn.add(tf.keras.layers.Dense(units=1,activation='sigmoid'))\n",
        "# Check the structure of the model\n",
        "nn.summary()"
      ],
      "execution_count": 141,
      "outputs": [
        {
          "output_type": "stream",
          "name": "stdout",
          "text": [
            "Model: \"sequential_8\"\n",
            "_________________________________________________________________\n",
            "Layer (type)                 Output Shape              Param #   \n",
            "=================================================================\n",
            "dense_27 (Dense)             (None, 8)                 352       \n",
            "_________________________________________________________________\n",
            "dense_28 (Dense)             (None, 4)                 36        \n",
            "_________________________________________________________________\n",
            "dense_29 (Dense)             (None, 1)                 5         \n",
            "=================================================================\n",
            "Total params: 393\n",
            "Trainable params: 393\n",
            "Non-trainable params: 0\n",
            "_________________________________________________________________\n"
          ]
        }
      ]
    },
    {
      "cell_type": "code",
      "metadata": {
        "id": "l498pscaRC9_"
      },
      "source": [
        "# Compile the model\n",
        "nn.compile(loss='binary_crossentropy',optimizer='adam', metrics=[\"accuracy\"])"
      ],
      "execution_count": 142,
      "outputs": []
    },
    {
      "cell_type": "code",
      "metadata": {
        "id": "BqUG3TMrRC9_",
        "colab": {
          "base_uri": "https://localhost:8080/"
        },
        "outputId": "fe7a6ad9-9eac-49ec-a35e-30ce118cf385"
      },
      "source": [
        "# Train the model\n",
        "model_fit = nn.fit(X_train_scaled,y_train, epochs=50)"
      ],
      "execution_count": 143,
      "outputs": [
        {
          "output_type": "stream",
          "name": "stdout",
          "text": [
            "Epoch 1/50\n",
            "804/804 [==============================] - 2s 1ms/step - loss: 0.6177 - accuracy: 0.6679\n",
            "Epoch 2/50\n",
            "804/804 [==============================] - 1s 1ms/step - loss: 0.5662 - accuracy: 0.7198\n",
            "Epoch 3/50\n",
            "804/804 [==============================] - 1s 1ms/step - loss: 0.5596 - accuracy: 0.7203\n",
            "Epoch 4/50\n",
            "804/804 [==============================] - 1s 2ms/step - loss: 0.5564 - accuracy: 0.7200\n",
            "Epoch 5/50\n",
            "804/804 [==============================] - 1s 1ms/step - loss: 0.5541 - accuracy: 0.7205\n",
            "Epoch 6/50\n",
            "804/804 [==============================] - 1s 1ms/step - loss: 0.5529 - accuracy: 0.7264\n",
            "Epoch 7/50\n",
            "804/804 [==============================] - 1s 1ms/step - loss: 0.5517 - accuracy: 0.7284\n",
            "Epoch 8/50\n",
            "804/804 [==============================] - 1s 1ms/step - loss: 0.5509 - accuracy: 0.7291\n",
            "Epoch 9/50\n",
            "804/804 [==============================] - 1s 1ms/step - loss: 0.5505 - accuracy: 0.7290\n",
            "Epoch 10/50\n",
            "804/804 [==============================] - 1s 1ms/step - loss: 0.5501 - accuracy: 0.7292\n",
            "Epoch 11/50\n",
            "804/804 [==============================] - 1s 1ms/step - loss: 0.5500 - accuracy: 0.7283\n",
            "Epoch 12/50\n",
            "804/804 [==============================] - 1s 1ms/step - loss: 0.5493 - accuracy: 0.7298\n",
            "Epoch 13/50\n",
            "804/804 [==============================] - 1s 1ms/step - loss: 0.5493 - accuracy: 0.7298\n",
            "Epoch 14/50\n",
            "804/804 [==============================] - 1s 1ms/step - loss: 0.5492 - accuracy: 0.7293\n",
            "Epoch 15/50\n",
            "804/804 [==============================] - 1s 1ms/step - loss: 0.5487 - accuracy: 0.7298\n",
            "Epoch 16/50\n",
            "804/804 [==============================] - 1s 2ms/step - loss: 0.5486 - accuracy: 0.7299\n",
            "Epoch 17/50\n",
            "804/804 [==============================] - 1s 1ms/step - loss: 0.5485 - accuracy: 0.7310\n",
            "Epoch 18/50\n",
            "804/804 [==============================] - 1s 1ms/step - loss: 0.5483 - accuracy: 0.7302\n",
            "Epoch 19/50\n",
            "804/804 [==============================] - 1s 1ms/step - loss: 0.5482 - accuracy: 0.7305\n",
            "Epoch 20/50\n",
            "804/804 [==============================] - 1s 1ms/step - loss: 0.5479 - accuracy: 0.7292\n",
            "Epoch 21/50\n",
            "804/804 [==============================] - 1s 1ms/step - loss: 0.5479 - accuracy: 0.7312\n",
            "Epoch 22/50\n",
            "804/804 [==============================] - 1s 1ms/step - loss: 0.5477 - accuracy: 0.7305\n",
            "Epoch 23/50\n",
            "804/804 [==============================] - 1s 1ms/step - loss: 0.5475 - accuracy: 0.7309\n",
            "Epoch 24/50\n",
            "804/804 [==============================] - 1s 1ms/step - loss: 0.5473 - accuracy: 0.7306\n",
            "Epoch 25/50\n",
            "804/804 [==============================] - 1s 1ms/step - loss: 0.5474 - accuracy: 0.7301\n",
            "Epoch 26/50\n",
            "804/804 [==============================] - 1s 1ms/step - loss: 0.5471 - accuracy: 0.7304\n",
            "Epoch 27/50\n",
            "804/804 [==============================] - 1s 1ms/step - loss: 0.5469 - accuracy: 0.7309\n",
            "Epoch 28/50\n",
            "804/804 [==============================] - 1s 1ms/step - loss: 0.5470 - accuracy: 0.7310\n",
            "Epoch 29/50\n",
            "804/804 [==============================] - 1s 1ms/step - loss: 0.5469 - accuracy: 0.7314\n",
            "Epoch 30/50\n",
            "804/804 [==============================] - 1s 1ms/step - loss: 0.5469 - accuracy: 0.7308\n",
            "Epoch 31/50\n",
            "804/804 [==============================] - 1s 1ms/step - loss: 0.5467 - accuracy: 0.7306\n",
            "Epoch 32/50\n",
            "804/804 [==============================] - 1s 1ms/step - loss: 0.5469 - accuracy: 0.7308\n",
            "Epoch 33/50\n",
            "804/804 [==============================] - 1s 1ms/step - loss: 0.5468 - accuracy: 0.7311\n",
            "Epoch 34/50\n",
            "804/804 [==============================] - 1s 1ms/step - loss: 0.5467 - accuracy: 0.7304\n",
            "Epoch 35/50\n",
            "804/804 [==============================] - 1s 1ms/step - loss: 0.5467 - accuracy: 0.7313\n",
            "Epoch 36/50\n",
            "804/804 [==============================] - 1s 1ms/step - loss: 0.5465 - accuracy: 0.7317\n",
            "Epoch 37/50\n",
            "804/804 [==============================] - 1s 1ms/step - loss: 0.5464 - accuracy: 0.7307\n",
            "Epoch 38/50\n",
            "804/804 [==============================] - 1s 1ms/step - loss: 0.5464 - accuracy: 0.7307\n",
            "Epoch 39/50\n",
            "804/804 [==============================] - 1s 1ms/step - loss: 0.5462 - accuracy: 0.7317\n",
            "Epoch 40/50\n",
            "804/804 [==============================] - 1s 1ms/step - loss: 0.5461 - accuracy: 0.7307\n",
            "Epoch 41/50\n",
            "804/804 [==============================] - 1s 1ms/step - loss: 0.5462 - accuracy: 0.7314\n",
            "Epoch 42/50\n",
            "804/804 [==============================] - 1s 1ms/step - loss: 0.5463 - accuracy: 0.7318\n",
            "Epoch 43/50\n",
            "804/804 [==============================] - 1s 1ms/step - loss: 0.5460 - accuracy: 0.7315\n",
            "Epoch 44/50\n",
            "804/804 [==============================] - 1s 1ms/step - loss: 0.5457 - accuracy: 0.7313\n",
            "Epoch 45/50\n",
            "804/804 [==============================] - 1s 2ms/step - loss: 0.5460 - accuracy: 0.7312\n",
            "Epoch 46/50\n",
            "804/804 [==============================] - 1s 1ms/step - loss: 0.5456 - accuracy: 0.7312\n",
            "Epoch 47/50\n",
            "804/804 [==============================] - 1s 1ms/step - loss: 0.5457 - accuracy: 0.7319\n",
            "Epoch 48/50\n",
            "804/804 [==============================] - 1s 1ms/step - loss: 0.5459 - accuracy: 0.7311\n",
            "Epoch 49/50\n",
            "804/804 [==============================] - 1s 1ms/step - loss: 0.5457 - accuracy: 0.7319\n",
            "Epoch 50/50\n",
            "804/804 [==============================] - 1s 1ms/step - loss: 0.5456 - accuracy: 0.7320\n"
          ]
        }
      ]
    },
    {
      "cell_type": "code",
      "metadata": {
        "id": "2QYUsVLVRC-A",
        "colab": {
          "base_uri": "https://localhost:8080/"
        },
        "outputId": "27a9de06-c3ae-49ec-85e9-9b4d116fafcf"
      },
      "source": [
        "# Evaluate the model using the test data\n",
        "model_loss, model_accuracy = nn.evaluate(X_test_scaled,y_test,verbose=2)\n",
        "print(f\"Loss: {model_loss}, Accuracy: {model_accuracy}\")"
      ],
      "execution_count": 144,
      "outputs": [
        {
          "output_type": "stream",
          "name": "stdout",
          "text": [
            "268/268 - 0s - loss: 0.5549 - accuracy: 0.7284\n",
            "Loss: 0.5549153685569763, Accuracy: 0.728396475315094\n"
          ]
        }
      ]
    },
    {
      "cell_type": "code",
      "metadata": {
        "id": "dr_fkpbXRC-A"
      },
      "source": [
        "# Export our model to HDF5 file\n",
        "nn.save(\"neural_network.h5\")"
      ],
      "execution_count": 145,
      "outputs": []
    },
    {
      "cell_type": "code",
      "metadata": {
        "id": "Mv40lrrkwxyD"
      },
      "source": [
        ""
      ],
      "execution_count": null,
      "outputs": []
    },
    {
      "cell_type": "markdown",
      "metadata": {
        "id": "kK8Cn4idg1yn"
      },
      "source": [
        "# Model Optimization"
      ]
    },
    {
      "cell_type": "markdown",
      "metadata": {
        "id": "fo2drzfthToV"
      },
      "source": [
        "__Attempt 1: Increase number of hidden layers__"
      ]
    },
    {
      "cell_type": "code",
      "metadata": {
        "id": "4eIvvpnkyxAm",
        "colab": {
          "base_uri": "https://localhost:8080/"
        },
        "outputId": "4ca8f3a8-b0e6-44da-d5ef-82f2670cc547"
      },
      "source": [
        "\n",
        "nn1 = tf.keras.models.Sequential()\n",
        "\n",
        "# First hidden layer\n",
        "input_dim = len(X.columns)\n",
        "nn1.add(tf.keras.layers.Dense(units=8, activation=\"relu\", input_dim=input_dim))\n",
        "# Second hidden layer\n",
        "nn1.add(tf.keras.layers.Dense(units=4, activation=\"relu\"))\n",
        "# Third hidden layer\n",
        "nn1.add(tf.keras.layers.Dense(units=4, activation=\"relu\"))\n",
        "# Fourth hidden layer\n",
        "nn1.add(tf.keras.layers.Dense(units=4, activation=\"relu\"))\n",
        "# Output layer\n",
        "nn1.add(tf.keras.layers.Dense(units=1,activation='sigmoid'))\n",
        "# Check the structure of the model\n",
        "nn1.summary()"
      ],
      "execution_count": 146,
      "outputs": [
        {
          "output_type": "stream",
          "name": "stdout",
          "text": [
            "Model: \"sequential_9\"\n",
            "_________________________________________________________________\n",
            "Layer (type)                 Output Shape              Param #   \n",
            "=================================================================\n",
            "dense_30 (Dense)             (None, 8)                 352       \n",
            "_________________________________________________________________\n",
            "dense_31 (Dense)             (None, 4)                 36        \n",
            "_________________________________________________________________\n",
            "dense_32 (Dense)             (None, 4)                 20        \n",
            "_________________________________________________________________\n",
            "dense_33 (Dense)             (None, 4)                 20        \n",
            "_________________________________________________________________\n",
            "dense_34 (Dense)             (None, 1)                 5         \n",
            "=================================================================\n",
            "Total params: 433\n",
            "Trainable params: 433\n",
            "Non-trainable params: 0\n",
            "_________________________________________________________________\n"
          ]
        }
      ]
    },
    {
      "cell_type": "code",
      "metadata": {
        "colab": {
          "base_uri": "https://localhost:8080/"
        },
        "id": "6P5rM1oihjmq",
        "outputId": "722c9e12-f82b-46a6-be56-769a059f0c14"
      },
      "source": [
        "# compile and train\n",
        "nn1.compile(loss='binary_crossentropy',optimizer='adam', metrics=[\"accuracy\"])\n",
        "model_fit = nn1.fit(X_train_scaled,y_train, epochs=50)"
      ],
      "execution_count": null,
      "outputs": [
        {
          "output_type": "stream",
          "name": "stdout",
          "text": [
            "Epoch 1/50\n",
            "804/804 [==============================] - 2s 2ms/step - loss: 0.6270 - accuracy: 0.6752\n",
            "Epoch 2/50\n",
            "804/804 [==============================] - 1s 2ms/step - loss: 0.5736 - accuracy: 0.7219\n",
            "Epoch 3/50\n",
            "804/804 [==============================] - 1s 1ms/step - loss: 0.5655 - accuracy: 0.7247\n",
            "Epoch 4/50\n",
            "804/804 [==============================] - 1s 2ms/step - loss: 0.5607 - accuracy: 0.7257\n",
            "Epoch 5/50\n",
            "804/804 [==============================] - 1s 2ms/step - loss: 0.5578 - accuracy: 0.7267\n",
            "Epoch 6/50\n",
            "804/804 [==============================] - 1s 2ms/step - loss: 0.5554 - accuracy: 0.7280\n",
            "Epoch 7/50\n",
            "804/804 [==============================] - 1s 2ms/step - loss: 0.5542 - accuracy: 0.7274\n",
            "Epoch 8/50\n",
            "804/804 [==============================] - 1s 2ms/step - loss: 0.5527 - accuracy: 0.7288\n",
            "Epoch 9/50\n",
            "804/804 [==============================] - 1s 2ms/step - loss: 0.5522 - accuracy: 0.7292\n",
            "Epoch 10/50\n",
            "804/804 [==============================] - 1s 2ms/step - loss: 0.5513 - accuracy: 0.7288\n",
            "Epoch 11/50\n",
            "804/804 [==============================] - 1s 2ms/step - loss: 0.5505 - accuracy: 0.7293\n",
            "Epoch 12/50\n",
            "804/804 [==============================] - 1s 2ms/step - loss: 0.5500 - accuracy: 0.7285\n",
            "Epoch 13/50\n",
            "804/804 [==============================] - 1s 2ms/step - loss: 0.5498 - accuracy: 0.7304\n",
            "Epoch 14/50\n",
            "804/804 [==============================] - 1s 2ms/step - loss: 0.5496 - accuracy: 0.7283\n",
            "Epoch 15/50\n",
            "804/804 [==============================] - 1s 2ms/step - loss: 0.5495 - accuracy: 0.7301\n",
            "Epoch 16/50\n",
            "804/804 [==============================] - 1s 2ms/step - loss: 0.5490 - accuracy: 0.7305\n",
            "Epoch 17/50\n",
            "804/804 [==============================] - 1s 2ms/step - loss: 0.5488 - accuracy: 0.7301\n",
            "Epoch 18/50\n",
            "804/804 [==============================] - 1s 2ms/step - loss: 0.5488 - accuracy: 0.7299\n",
            "Epoch 19/50\n",
            "804/804 [==============================] - 1s 2ms/step - loss: 0.5483 - accuracy: 0.7305\n",
            "Epoch 20/50\n",
            "804/804 [==============================] - 1s 2ms/step - loss: 0.5479 - accuracy: 0.7310\n",
            "Epoch 21/50\n",
            "804/804 [==============================] - 1s 2ms/step - loss: 0.5481 - accuracy: 0.7308\n",
            "Epoch 22/50\n",
            "804/804 [==============================] - 1s 2ms/step - loss: 0.5477 - accuracy: 0.7301\n",
            "Epoch 23/50\n",
            "804/804 [==============================] - 1s 2ms/step - loss: 0.5476 - accuracy: 0.7306\n",
            "Epoch 24/50\n",
            "804/804 [==============================] - 1s 2ms/step - loss: 0.5471 - accuracy: 0.7296\n",
            "Epoch 25/50\n",
            "804/804 [==============================] - 1s 2ms/step - loss: 0.5472 - accuracy: 0.7306\n",
            "Epoch 26/50\n",
            "804/804 [==============================] - 1s 2ms/step - loss: 0.5470 - accuracy: 0.7313\n",
            "Epoch 27/50\n",
            "804/804 [==============================] - 1s 2ms/step - loss: 0.5469 - accuracy: 0.7321\n",
            "Epoch 28/50\n",
            "804/804 [==============================] - 1s 2ms/step - loss: 0.5470 - accuracy: 0.7300\n",
            "Epoch 29/50\n",
            "804/804 [==============================] - 1s 2ms/step - loss: 0.5467 - accuracy: 0.7304\n",
            "Epoch 30/50\n",
            "804/804 [==============================] - 1s 2ms/step - loss: 0.5463 - accuracy: 0.7316\n",
            "Epoch 31/50\n",
            "804/804 [==============================] - 1s 2ms/step - loss: 0.5468 - accuracy: 0.7311\n",
            "Epoch 32/50\n",
            "804/804 [==============================] - 1s 2ms/step - loss: 0.5467 - accuracy: 0.7303\n",
            "Epoch 33/50\n",
            "804/804 [==============================] - 1s 2ms/step - loss: 0.5465 - accuracy: 0.7301\n",
            "Epoch 34/50\n",
            "804/804 [==============================] - 1s 2ms/step - loss: 0.5466 - accuracy: 0.7310\n",
            "Epoch 35/50\n",
            "804/804 [==============================] - 1s 2ms/step - loss: 0.5465 - accuracy: 0.7304\n",
            "Epoch 36/50\n",
            "804/804 [==============================] - 1s 2ms/step - loss: 0.5460 - accuracy: 0.7311\n",
            "Epoch 37/50\n",
            "804/804 [==============================] - 1s 2ms/step - loss: 0.5465 - accuracy: 0.7303\n",
            "Epoch 38/50\n",
            "804/804 [==============================] - 1s 2ms/step - loss: 0.5457 - accuracy: 0.7323\n",
            "Epoch 39/50\n",
            "804/804 [==============================] - 1s 2ms/step - loss: 0.5460 - accuracy: 0.7315\n",
            "Epoch 40/50\n",
            "804/804 [==============================] - 1s 2ms/step - loss: 0.5457 - accuracy: 0.7312\n",
            "Epoch 41/50\n",
            "804/804 [==============================] - 1s 2ms/step - loss: 0.5456 - accuracy: 0.7304\n",
            "Epoch 42/50\n",
            "804/804 [==============================] - 1s 2ms/step - loss: 0.5460 - accuracy: 0.7306\n",
            "Epoch 43/50\n",
            "804/804 [==============================] - 1s 2ms/step - loss: 0.5455 - accuracy: 0.7312\n",
            "Epoch 44/50\n",
            "804/804 [==============================] - 1s 2ms/step - loss: 0.5459 - accuracy: 0.7303\n",
            "Epoch 45/50\n",
            "804/804 [==============================] - 1s 2ms/step - loss: 0.5456 - accuracy: 0.7313\n",
            "Epoch 46/50\n",
            "804/804 [==============================] - 1s 2ms/step - loss: 0.5455 - accuracy: 0.7305\n",
            "Epoch 47/50\n",
            "804/804 [==============================] - 1s 2ms/step - loss: 0.5454 - accuracy: 0.7309\n",
            "Epoch 48/50\n",
            "804/804 [==============================] - 1s 2ms/step - loss: 0.5454 - accuracy: 0.7308\n",
            "Epoch 49/50\n",
            "804/804 [==============================] - 1s 2ms/step - loss: 0.5451 - accuracy: 0.7311\n",
            "Epoch 50/50\n",
            "804/804 [==============================] - 1s 2ms/step - loss: 0.5453 - accuracy: 0.7325\n"
          ]
        }
      ]
    },
    {
      "cell_type": "code",
      "metadata": {
        "colab": {
          "base_uri": "https://localhost:8080/"
        },
        "id": "jVyRm3njhwGK",
        "outputId": "fd1fcc69-c1b7-472b-8936-d614da58ce09"
      },
      "source": [
        "model_loss, model_accuracy = nn1.evaluate(X_test_scaled,y_test,verbose=2)\n",
        "print(f\"Loss: {model_loss}, Accuracy: {model_accuracy}\")"
      ],
      "execution_count": null,
      "outputs": [
        {
          "output_type": "stream",
          "name": "stdout",
          "text": [
            "268/268 - 0s - loss: 0.5531 - accuracy: 0.7278\n",
            "Loss: 0.5531025528907776, Accuracy: 0.7278134226799011\n"
          ]
        }
      ]
    },
    {
      "cell_type": "markdown",
      "metadata": {
        "id": "0epR__oMiJyS"
      },
      "source": [
        "__Result: More hidden layers did not improve the model score__"
      ]
    },
    {
      "cell_type": "code",
      "metadata": {
        "colab": {
          "base_uri": "https://localhost:8080/",
          "height": 539
        },
        "id": "OktLYhXsiPXJ",
        "outputId": "82e28c57-6b9f-4803-915f-232618f0444e"
      },
      "source": [
        "import matplotlib.pyplot as plt\n",
        "import seaborn as sns\n",
        "_,ax = plt.subplots(figsize=(10,5))\n",
        "sns.boxplot(data=X)\n",
        "\n",
        "plt.xticks(rotation=90)"
      ],
      "execution_count": 147,
      "outputs": [
        {
          "output_type": "execute_result",
          "data": {
            "text/plain": [
              "(array([ 0,  1,  2,  3,  4,  5,  6,  7,  8,  9, 10, 11, 12, 13, 14, 15, 16,\n",
              "        17, 18, 19, 20, 21, 22, 23, 24, 25, 26, 27, 28, 29, 30, 31, 32, 33,\n",
              "        34, 35, 36, 37, 38, 39, 40, 41, 42]),\n",
              " <a list of 43 Text major ticklabel objects>)"
            ]
          },
          "metadata": {},
          "execution_count": 147
        },
        {
          "output_type": "display_data",
          "data": {
            "image/png": "[encoded data removed]",
            "text/plain": [
              "<Figure size 720x360 with 1 Axes>"
            ]
          },
          "metadata": {
            "needs_background": "light"
          }
        }
      ]
    },
    {
      "cell_type": "code",
      "metadata": {
        "colab": {
          "base_uri": "https://localhost:8080/",
          "height": 280
        },
        "id": "tFYkP7DpjIIO",
        "outputId": "43a6b9f5-2a84-4ab9-a818-d3e7a39b9d9e"
      },
      "source": [
        "sns.boxplot(data=X, y='ASK_AMT')"
      ],
      "execution_count": 148,
      "outputs": [
        {
          "output_type": "execute_result",
          "data": {
            "text/plain": [
              "<matplotlib.axes._subplots.AxesSubplot at 0x7ffae96c0590>"
            ]
          },
          "metadata": {},
          "execution_count": 148
        },
        {
          "output_type": "display_data",
          "data": {
            "image/png": "[encoded data removed]",
            "text/plain": [
              "<Figure size 432x288 with 1 Axes>"
            ]
          },
          "metadata": {
            "needs_background": "light"
          }
        }
      ]
    },
    {
      "cell_type": "markdown",
      "metadata": {
        "id": "u4RkOb9ew1CJ"
      },
      "source": [
        "ASK_AMT has outlier data that make it difficult to achieve higher model scores"
      ]
    },
    {
      "cell_type": "code",
      "metadata": {
        "colab": {
          "base_uri": "https://localhost:8080/",
          "height": 269
        },
        "id": "mUTiC-g6wz-H",
        "outputId": "5d56d7ea-62d0-45ae-d6ac-eae7a5cfb985"
      },
      "source": [
        "# remove outlier data from X, y\n",
        "X_rm_outlier = X[X['ASK_AMT']<1e+5]\n",
        "sns.stripplot(data=X_rm_outlier, y='ASK_AMT')"
      ],
      "execution_count": 173,
      "outputs": [
        {
          "output_type": "execute_result",
          "data": {
            "text/plain": [
              "<matplotlib.axes._subplots.AxesSubplot at 0x7ffaf19c6e50>"
            ]
          },
          "metadata": {},
          "execution_count": 173
        },
        {
          "output_type": "display_data",
          "data": {
            "image/png": "[encoded data removed]",
            "text/plain": [
              "<Figure size 432x288 with 1 Axes>"
            ]
          },
          "metadata": {
            "needs_background": "light"
          }
        }
      ]
    },
    {
      "cell_type": "code",
      "metadata": {
        "colab": {
          "base_uri": "https://localhost:8080/"
        },
        "id": "tyzxETwbkXCq",
        "outputId": "2f87d787-6fe5-461e-a40b-965cbeb3ef22"
      },
      "source": [
        "\n",
        "X_rm_outlier.shape"
      ],
      "execution_count": 174,
      "outputs": [
        {
          "output_type": "execute_result",
          "data": {
            "text/plain": [
              "(29766, 43)"
            ]
          },
          "metadata": {},
          "execution_count": 174
        }
      ]
    },
    {
      "cell_type": "code",
      "metadata": {
        "colab": {
          "base_uri": "https://localhost:8080/"
        },
        "id": "_r26X8W2ygjW",
        "outputId": "cc261860-c9a5-4c1b-fab6-6355e0f0db7c"
      },
      "source": [
        "X.shape"
      ],
      "execution_count": 175,
      "outputs": [
        {
          "output_type": "execute_result",
          "data": {
            "text/plain": [
              "(34299, 43)"
            ]
          },
          "metadata": {},
          "execution_count": 175
        }
      ]
    },
    {
      "cell_type": "code",
      "metadata": {
        "colab": {
          "base_uri": "https://localhost:8080/"
        },
        "id": "dQAAAnwAyjYH",
        "outputId": "473d1d11-062b-4e02-9695-87cd9741373b"
      },
      "source": [
        "# remove outlier labels and check dimensions agree with X_rm_outlier\n",
        "y_rm_outlier = y[X_rm_outlier.index]\n",
        "y_rm_outlier.shape"
      ],
      "execution_count": 176,
      "outputs": [
        {
          "output_type": "execute_result",
          "data": {
            "text/plain": [
              "(29766,)"
            ]
          },
          "metadata": {},
          "execution_count": 176
        }
      ]
    },
    {
      "cell_type": "code",
      "metadata": {
        "id": "iMb-MFryyuim"
      },
      "source": [
        "X_train,X_test,y_train,y_test = train_test_split(X_rm_outlier,y_rm_outlier,random_state=42)"
      ],
      "execution_count": 177,
      "outputs": []
    },
    {
      "cell_type": "code",
      "metadata": {
        "id": "uZ57TSl33cEP"
      },
      "source": [
        "scaler = StandardScaler()\n",
        "\n",
        "# Fit the StandardScaler\n",
        "X_scaler = scaler.fit(X_train)\n",
        "\n",
        "# Scale the data\n",
        "X_train_scaled = X_scaler.transform(X_train)\n",
        "X_test_scaled = X_scaler.transform(X_test)"
      ],
      "execution_count": 178,
      "outputs": []
    },
    {
      "cell_type": "code",
      "metadata": {
        "colab": {
          "base_uri": "https://localhost:8080/"
        },
        "id": "aXf8e8Kj3ktg",
        "outputId": "4805edca-a545-48fb-a363-3cc220f3a090"
      },
      "source": [
        "\n",
        "nn = tf.keras.models.Sequential()\n",
        "\n",
        "# First hidden layer\n",
        "input_dim = len(X_rm_outlier.columns)\n",
        "print(input_dim)\n",
        "nn.add(tf.keras.layers.Dense(units=12, activation=\"relu\", input_dim=input_dim))\n",
        "# Second hidden layer\n",
        "nn.add(tf.keras.layers.Dense(units=8, activation=\"relu\"))\n",
        "# Third Layer\n",
        "nn.add(tf.keras.layers.Dense(units=8, activation=\"relu\"))\n",
        "# Fourth Layer\n",
        "nn.add(tf.keras.layers.Dense(units=8, activation=\"relu\"))\n",
        "# Output layer\n",
        "nn.add(tf.keras.layers.Dense(units=1,activation='sigmoid'))\n",
        "# Check the structure of the model\n",
        "nn.summary()"
      ],
      "execution_count": 179,
      "outputs": [
        {
          "output_type": "stream",
          "name": "stdout",
          "text": [
            "43\n",
            "Model: \"sequential_13\"\n",
            "_________________________________________________________________\n",
            "Layer (type)                 Output Shape              Param #   \n",
            "=================================================================\n",
            "dense_49 (Dense)             (None, 12)                528       \n",
            "_________________________________________________________________\n",
            "dense_50 (Dense)             (None, 8)                 104       \n",
            "_________________________________________________________________\n",
            "dense_51 (Dense)             (None, 8)                 72        \n",
            "_________________________________________________________________\n",
            "dense_52 (Dense)             (None, 8)                 72        \n",
            "_________________________________________________________________\n",
            "dense_53 (Dense)             (None, 1)                 9         \n",
            "=================================================================\n",
            "Total params: 785\n",
            "Trainable params: 785\n",
            "Non-trainable params: 0\n",
            "_________________________________________________________________\n"
          ]
        }
      ]
    },
    {
      "cell_type": "code",
      "metadata": {
        "id": "anWAPVvf3sWw"
      },
      "source": [
        "\n",
        "nn.compile(loss='binary_crossentropy',optimizer='adam', metrics=[\"accuracy\"])"
      ],
      "execution_count": 180,
      "outputs": []
    },
    {
      "cell_type": "code",
      "metadata": {
        "colab": {
          "base_uri": "https://localhost:8080/"
        },
        "id": "iN7Tic7132GQ",
        "outputId": "6a556dd4-296a-4b16-db9c-a444b57dfa4e"
      },
      "source": [
        "model_fit = nn.fit(X_train_scaled,y_train, epochs=20)"
      ],
      "execution_count": 181,
      "outputs": [
        {
          "output_type": "stream",
          "name": "stdout",
          "text": [
            "Epoch 1/20\n",
            "698/698 [==============================] - 2s 2ms/step - loss: 0.5902 - accuracy: 0.7072\n",
            "Epoch 2/20\n",
            "698/698 [==============================] - 1s 2ms/step - loss: 0.5469 - accuracy: 0.7408\n",
            "Epoch 3/20\n",
            "698/698 [==============================] - 1s 2ms/step - loss: 0.5401 - accuracy: 0.7420\n",
            "Epoch 4/20\n",
            "698/698 [==============================] - 1s 2ms/step - loss: 0.5379 - accuracy: 0.7434\n",
            "Epoch 5/20\n",
            "698/698 [==============================] - 1s 2ms/step - loss: 0.5363 - accuracy: 0.7445\n",
            "Epoch 6/20\n",
            "698/698 [==============================] - 1s 2ms/step - loss: 0.5355 - accuracy: 0.7442\n",
            "Epoch 7/20\n",
            "698/698 [==============================] - 1s 2ms/step - loss: 0.5338 - accuracy: 0.7454\n",
            "Epoch 8/20\n",
            "698/698 [==============================] - 1s 2ms/step - loss: 0.5340 - accuracy: 0.7453\n",
            "Epoch 9/20\n",
            "698/698 [==============================] - 1s 2ms/step - loss: 0.5329 - accuracy: 0.7463\n",
            "Epoch 10/20\n",
            "698/698 [==============================] - 1s 2ms/step - loss: 0.5328 - accuracy: 0.7466\n",
            "Epoch 11/20\n",
            "698/698 [==============================] - 1s 2ms/step - loss: 0.5317 - accuracy: 0.7476\n",
            "Epoch 12/20\n",
            "698/698 [==============================] - 1s 2ms/step - loss: 0.5323 - accuracy: 0.7472\n",
            "Epoch 13/20\n",
            "698/698 [==============================] - 1s 2ms/step - loss: 0.5315 - accuracy: 0.7466\n",
            "Epoch 14/20\n",
            "698/698 [==============================] - 1s 2ms/step - loss: 0.5313 - accuracy: 0.7461\n",
            "Epoch 15/20\n",
            "698/698 [==============================] - 1s 2ms/step - loss: 0.5309 - accuracy: 0.7470\n",
            "Epoch 16/20\n",
            "698/698 [==============================] - 1s 2ms/step - loss: 0.5305 - accuracy: 0.7464\n",
            "Epoch 17/20\n",
            "698/698 [==============================] - 1s 2ms/step - loss: 0.5300 - accuracy: 0.7465\n",
            "Epoch 18/20\n",
            "698/698 [==============================] - 1s 2ms/step - loss: 0.5300 - accuracy: 0.7471\n",
            "Epoch 19/20\n",
            "698/698 [==============================] - 1s 2ms/step - loss: 0.5303 - accuracy: 0.7478\n",
            "Epoch 20/20\n",
            "698/698 [==============================] - 1s 2ms/step - loss: 0.5297 - accuracy: 0.7473\n"
          ]
        }
      ]
    },
    {
      "cell_type": "code",
      "metadata": {
        "id": "JKHL-b6B381-",
        "colab": {
          "base_uri": "https://localhost:8080/"
        },
        "outputId": "6f4c8097-3566-4106-dd0d-22328b1eac5e"
      },
      "source": [
        "model_loss, model_accuracy = nn.evaluate(X_test_scaled,y_test,verbose=2)\n",
        "print(f\"Loss: {model_loss}, Accuracy: {model_accuracy}\")"
      ],
      "execution_count": 182,
      "outputs": [
        {
          "output_type": "stream",
          "name": "stdout",
          "text": [
            "233/233 - 0s - loss: 0.5399 - accuracy: 0.7411\n",
            "Loss: 0.5398967266082764, Accuracy: 0.7410642504692078\n"
          ]
        }
      ]
    },
    {
      "cell_type": "code",
      "metadata": {
        "id": "cZEELtqCJbfe"
      },
      "source": [
        ""
      ],
      "execution_count": null,
      "outputs": []
    }
  ]
}